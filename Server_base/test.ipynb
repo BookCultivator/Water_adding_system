{
 "cells": [
  {
   "cell_type": "code",
   "execution_count": 1,
   "id": "9de77592",
   "metadata": {},
   "outputs": [
    {
     "name": "stdout",
     "output_type": "stream",
     "text": [
      "=====================================\n",
      "城市 : 臺北市\n",
      "Time : 2025-09-12 06:00:00\n",
      "天氣狀況 : 晴午後短暫雷陣雨\n",
      "最高溫度 : 34 °C\n",
      "最低溫度 : 27 °C\n",
      "舒適度   : 舒適至悶熱\n",
      "降雨機率 : 30 %\n",
      "=====================================\n",
      "=====================================\n",
      "城市 : 臺南市\n",
      "Time : 2025-09-12 06:00:00\n",
      "天氣狀況 : 晴時多雲\n",
      "最高溫度 : 33 °C\n",
      "最低溫度 : 28 °C\n",
      "舒適度   : 舒適至悶熱\n",
      "降雨機率 : 20 %\n",
      "=====================================\n"
     ]
    }
   ],
   "source": [
    "import requests\n",
    "\n",
    "\n",
    "# 取得天氣資訊\n",
    "def Search_weather(city):\n",
    "    url = \"https://opendata.cwa.gov.tw/api/v1/rest/datastore/F-C0032-001?Authorization=CWA-58ACE3D3-C4F6-4272-862C-DFD7219B46D1&format=JSON\"\n",
    "    data = requests.get(url).json() # 將網頁資料GET下來\n",
    "    location = data[\"records\"][\"location\"] # 取得location資料\n",
    "    print(\"=====================================\")\n",
    "    print(\"城市 : {}\".format(city))\n",
    "    for i in location:\n",
    "        if i['locationName'] == city:\n",
    "            for j in i['weatherElement']:\n",
    "                if j['elementName'] == \"Wx\":\n",
    "                    print(\"Time : {}\".format(j['time'][0]['startTime']))\n",
    "                    print(\"天氣狀況 : {}\".format(j['time'][0]['parameter']['parameterName']))\n",
    "            for j in i['weatherElement']:\n",
    "                if j['elementName'] == \"MaxT\":\n",
    "                    print(\"最高溫度 : {}\".format(j['time'][0]['parameter']['parameterName']), \"°C\")\n",
    "            for j in i['weatherElement']:\n",
    "                if j['elementName'] == \"MinT\":\n",
    "                    print(\"最低溫度 : {}\".format(j['time'][0]['parameter']['parameterName']), \"°C\")\n",
    "            for j in i['weatherElement']:\n",
    "                if j['elementName'] == \"CI\":\n",
    "                    print(\"舒適度   : {}\".format(j['time'][0]['parameter']['parameterName']))\n",
    "            for j in i['weatherElement']:\n",
    "                if j['elementName'] == \"PoP\":\n",
    "                    print(\"降雨機率 : {}\".format(j['time'][0]['parameter']['parameterName']), \"%\")\n",
    "    print(\"=====================================\")\n",
    "\n",
    "\n",
    "Search_weather(\"臺北市\")\n",
    "Search_weather(\"臺南市\")\n",
    "\n"
   ]
  },
  {
   "cell_type": "code",
   "execution_count": null,
   "id": "6937d06e",
   "metadata": {},
   "outputs": [],
   "source": []
  }
 ],
 "metadata": {
  "kernelspec": {
   "display_name": "Python 3",
   "language": "python",
   "name": "python3"
  },
  "language_info": {
   "codemirror_mode": {
    "name": "ipython",
    "version": 3
   },
   "file_extension": ".py",
   "mimetype": "text/x-python",
   "name": "python",
   "nbconvert_exporter": "python",
   "pygments_lexer": "ipython3",
   "version": "3.10.4"
  }
 },
 "nbformat": 4,
 "nbformat_minor": 5
}
